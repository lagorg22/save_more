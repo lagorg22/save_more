{
 "cells": [
  {
   "cell_type": "code",
   "execution_count": 1,
   "id": "0308e8f1-456c-4fac-b5a9-e9077d6881c5",
   "metadata": {},
   "outputs": [],
   "source": [
    "import pandas as pd\n",
    "import requests\n",
    "from sqlalchemy import create_engine\n",
    "import random\n",
    "from datetime import datetime\n",
    "import json\n",
    "from postgre_cred import database_url"
   ]
  },
  {
   "cell_type": "code",
   "execution_count": 2,
   "id": "68a7c555-496a-4fdd-8144-004a8e55b7b0",
   "metadata": {},
   "outputs": [],
   "source": [
    "resp = requests.get('https://veli.store/_next/data/O6jvrOse3zlGpiC7AWBmz/ka/category/teqnika/774.json?type=teqnika&type=774')"
   ]
  },
  {
   "cell_type": "code",
   "execution_count": 3,
   "id": "ae8395d9-b1f8-4f62-902b-d78737a8bacf",
   "metadata": {},
   "outputs": [
    {
     "data": {
      "text/plain": [
       "[{'id': 59,\n",
       "  'headline': 'მობილურები & აქსესუარები',\n",
       "  'image': None,\n",
       "  'icon': 'https://media.veli.store/media/product_category/tech_light_blue.svg',\n",
       "  'meta_description': 'აღმოაჩინე კატეგორია - მობილურები & აქსესუარები, მიიღე შეკვეთა 3 საათში',\n",
       "  'meta_title': None,\n",
       "  'full_slug': 'teqnika/mobilurebi-aqsesuarebi',\n",
       "  'canonical_url': None},\n",
       " {'id': 111,\n",
       "  'headline': 'კომპიუტერული ტექნიკა',\n",
       "  'image': None,\n",
       "  'icon': 'https://media.veli.store/media/product_category/tc.svg',\n",
       "  'meta_description': 'შეიძინე კომპიუტერული ტექნიკა ველიზე შენთვის ან შენი ბიზნესისთვის, მიიღე შენაძენი 3 საათში უფასოდ, ნებისმიერ მისამართზე.',\n",
       "  'meta_title': None,\n",
       "  'full_slug': 'teqnika/kompiuteruli-teqnika',\n",
       "  'canonical_url': None},\n",
       " {'id': 775,\n",
       "  'headline': 'პლანშეტები & აქსესუარები',\n",
       "  'image': None,\n",
       "  'icon': 'https://media.veli.store/media/product_category/tech_light_green.svg',\n",
       "  'meta_description': 'აღმოაჩინე პლანშეტები და აქსესუარები VELI.store-ზე. შეიძინე სასურველი ნივთები და მიიღე შენაძენი 3 საათში, უფასოდ.',\n",
       "  'meta_title': 'პლანშეტები, სახატავი პლანშეტები & აქსესუარები',\n",
       "  'full_slug': 'teqnika/planshetebi-aqsesuarebi',\n",
       "  'canonical_url': None},\n",
       " {'id': 2667,\n",
       "  'headline': 'ტელევიზორები & აქსესუარები',\n",
       "  'image': None,\n",
       "  'icon': 'https://media.veli.store/media/product_category/headphones_technic2.svg',\n",
       "  'meta_description': 'აღმოაჩინე კატეგორია - ტელევიზორები & აქსესუარები, მიიღე შეკვეთა 3 საათში',\n",
       "  'meta_title': None,\n",
       "  'full_slug': 'teqnika/televizorebi-aqsesuarebi',\n",
       "  'canonical_url': 'https://veli.store/category/teqnika/televizorebi-aqsesuarebi/televizorebi/2837/'},\n",
       " {'id': 7018,\n",
       "  'headline': 'გეიმინგი',\n",
       "  'image': None,\n",
       "  'icon': None,\n",
       "  'meta_description': 'შეარჩიე გეიმინგ მოწყობილობები ველიზე და მიიღე შენაძენი თბილისსა და მის შემოგარენში 3 საათში, უფასოდ.',\n",
       "  'meta_title': None,\n",
       "  'full_slug': 'teqnika/geimingi',\n",
       "  'canonical_url': None},\n",
       " {'id': 5281,\n",
       "  'headline': 'მსხვილი ტექნიკა',\n",
       "  'image': None,\n",
       "  'icon': 'https://media.veli.store/media/product_category/head%E1%83%9B%E1%83%A1%E1%83%AE%E1%83%95%E1%83%98%E1%83%9A%E1%83%98_%E1%83%A2%E1%83%94%E1%83%A5%E1%83%9C%E1%83%98%E1%83%99%E1%83%90s.svg',\n",
       "  'meta_description': 'აღმოაჩინე კატეგორია - მსხვილი ტექნიკა, მიიღე შეკვეთა 3 საათში',\n",
       "  'meta_title': None,\n",
       "  'full_slug': 'teqnika/mskhvili-teqnika',\n",
       "  'canonical_url': None},\n",
       " {'id': 829,\n",
       "  'headline': 'სმარტ გაჯეტები',\n",
       "  'image': None,\n",
       "  'icon': 'https://media.veli.store/media/product_category/tech_dark_blue.svg',\n",
       "  'meta_description': 'შეარჩიე სმარტ გაჯეტები VELI.store-ზე სახლიდან გაუსვლელად და მიიღე შენაძენი 3 საათში, უფასოდ.',\n",
       "  'meta_title': None,\n",
       "  'full_slug': 'teqnika/smart-gajetebi',\n",
       "  'canonical_url': None},\n",
       " {'id': 8436,\n",
       "  'headline': 'ფოტო & ვიდეო',\n",
       "  'image': None,\n",
       "  'icon': None,\n",
       "  'meta_description': 'აღმოაჩინე კატეგორია - ფოტო & ვიდეო, მიიღე შეკვეთა 3 საათში',\n",
       "  'meta_title': None,\n",
       "  'full_slug': 'teqnika/foto-video',\n",
       "  'canonical_url': None},\n",
       " {'id': 776,\n",
       "  'headline': 'აუდიოტექნიკა',\n",
       "  'image': None,\n",
       "  'icon': 'https://media.veli.store/media/product_category/tech_pink.svg',\n",
       "  'meta_description': 'აღმოაჩინე აუდიო ტექნიკის ყველაზე დიდი არჩევანი VELI.store-ზე. გააკეთე შენაძენი ონლაინ და მიიღე 3 საათში უფასოდ, ნებისმიერ მისამართზე.',\n",
       "  'meta_title': None,\n",
       "  'full_slug': 'teqnika/audioteqnika',\n",
       "  'canonical_url': None},\n",
       " {'id': 1233,\n",
       "  'headline': 'თავის მოვლა',\n",
       "  'image': None,\n",
       "  'icon': 'https://media.veli.store/media/product_category/tr.svg',\n",
       "  'meta_description': 'აღმოაჩინე კატეგორია - თავის მოვლა, მიიღე შეკვეთა 3 საათში',\n",
       "  'meta_title': None,\n",
       "  'full_slug': 'teqnika/tavis-movla',\n",
       "  'canonical_url': None},\n",
       " {'id': 1330,\n",
       "  'headline': 'სამზარეულოს ტექნიკა',\n",
       "  'image': None,\n",
       "  'icon': 'https://media.veli.store/media/product_category/tech_purple.svg',\n",
       "  'meta_description': 'შეიძინე სამზარეულოს ტექნიკა veli.store-ზე უპროცენტო განვადებით და მიიღე შეკვეთა 3 საათში, სასურველ მისამართზე. ფართო ასორტიმენტი და საუკეთესო ფასები.',\n",
       "  'meta_title': 'სამზარეულო ტექნიკა | Veli Store',\n",
       "  'full_slug': 'teqnika/samzareulos-teqnika',\n",
       "  'canonical_url': None},\n",
       " {'id': 1548,\n",
       "  'headline': 'სახლი & დასუფთავება',\n",
       "  'image': None,\n",
       "  'icon': 'https://media.veli.store/media/product_category/tech_orange.svg',\n",
       "  'meta_description': 'აღმოაჩინე კატეგორია - სახლი & დასუფთავება, მიიღე შეკვეთა 3 საათში',\n",
       "  'meta_title': None,\n",
       "  'full_slug': 'teqnika/sivrcis-dasuftaveba',\n",
       "  'canonical_url': None},\n",
       " {'id': 2039,\n",
       "  'headline': 'ელექტრო დანადგარები & ხელსაწყოები',\n",
       "  'image': None,\n",
       "  'icon': 'https://media.veli.store/media/product_category/headphones_technic2.svg',\n",
       "  'meta_description': 'აღმოაჩინე კატეგორია - ელექტრო დანადგარები & ხელსაწყოები, მიიღე შეკვეთა 3 საათში',\n",
       "  'meta_title': None,\n",
       "  'full_slug': 'teqnika/eleqtro-danadgarebi-khelsatsyoebi',\n",
       "  'canonical_url': None},\n",
       " {'id': 1362,\n",
       "  'headline': 'ბატარეები & ფანრები',\n",
       "  'image': None,\n",
       "  'icon': 'https://media.veli.store/media/product_category/headphones_technic.svg',\n",
       "  'meta_description': 'აღმოაჩინე კატეგორია - ბატარეები & ფანრები, მიიღე შეკვეთა 3 საათში',\n",
       "  'meta_title': None,\n",
       "  'full_slug': 'teqnika/batareebi-fanrebi',\n",
       "  'canonical_url': None},\n",
       " {'id': 6390,\n",
       "  'headline': 'Open Box',\n",
       "  'image': None,\n",
       "  'icon': None,\n",
       "  'meta_description': 'აღმოაჩინე კატეგორია - Open Box, მიიღე შეკვეთა 3 საათში',\n",
       "  'meta_title': None,\n",
       "  'full_slug': 'teqnika/open-box',\n",
       "  'canonical_url': None}]"
      ]
     },
     "execution_count": 3,
     "metadata": {},
     "output_type": "execute_result"
    }
   ],
   "source": [
    "tech_cat_data = resp.json()\n",
    "tech_cat_data = tech_cat_data['pageProps']['data']['categories']\n",
    "tech_cat_data"
   ]
  },
  {
   "cell_type": "code",
   "execution_count": 37,
   "id": "bb58c09e-0982-482a-a4e8-8fdceeb70ba5",
   "metadata": {},
   "outputs": [
    {
     "data": {
      "text/html": [
       "<div>\n",
       "<style scoped>\n",
       "    .dataframe tbody tr th:only-of-type {\n",
       "        vertical-align: middle;\n",
       "    }\n",
       "\n",
       "    .dataframe tbody tr th {\n",
       "        vertical-align: top;\n",
       "    }\n",
       "\n",
       "    .dataframe thead th {\n",
       "        text-align: right;\n",
       "    }\n",
       "</style>\n",
       "<table border=\"1\" class=\"dataframe\">\n",
       "  <thead>\n",
       "    <tr style=\"text-align: right;\">\n",
       "      <th></th>\n",
       "      <th>id</th>\n",
       "      <th>full_slug</th>\n",
       "    </tr>\n",
       "  </thead>\n",
       "  <tbody>\n",
       "    <tr>\n",
       "      <th>0</th>\n",
       "      <td>59</td>\n",
       "      <td>teqnika/mobilurebi-aqsesuarebi</td>\n",
       "    </tr>\n",
       "    <tr>\n",
       "      <th>1</th>\n",
       "      <td>111</td>\n",
       "      <td>teqnika/kompiuteruli-teqnika</td>\n",
       "    </tr>\n",
       "    <tr>\n",
       "      <th>2</th>\n",
       "      <td>775</td>\n",
       "      <td>teqnika/planshetebi-aqsesuarebi</td>\n",
       "    </tr>\n",
       "    <tr>\n",
       "      <th>3</th>\n",
       "      <td>2667</td>\n",
       "      <td>teqnika/televizorebi-aqsesuarebi</td>\n",
       "    </tr>\n",
       "    <tr>\n",
       "      <th>4</th>\n",
       "      <td>7018</td>\n",
       "      <td>teqnika/geimingi</td>\n",
       "    </tr>\n",
       "    <tr>\n",
       "      <th>5</th>\n",
       "      <td>5281</td>\n",
       "      <td>teqnika/mskhvili-teqnika</td>\n",
       "    </tr>\n",
       "    <tr>\n",
       "      <th>6</th>\n",
       "      <td>829</td>\n",
       "      <td>teqnika/smart-gajetebi</td>\n",
       "    </tr>\n",
       "    <tr>\n",
       "      <th>7</th>\n",
       "      <td>8436</td>\n",
       "      <td>teqnika/foto-video</td>\n",
       "    </tr>\n",
       "    <tr>\n",
       "      <th>8</th>\n",
       "      <td>776</td>\n",
       "      <td>teqnika/audioteqnika</td>\n",
       "    </tr>\n",
       "    <tr>\n",
       "      <th>9</th>\n",
       "      <td>1233</td>\n",
       "      <td>teqnika/tavis-movla</td>\n",
       "    </tr>\n",
       "    <tr>\n",
       "      <th>10</th>\n",
       "      <td>1330</td>\n",
       "      <td>teqnika/samzareulos-teqnika</td>\n",
       "    </tr>\n",
       "    <tr>\n",
       "      <th>11</th>\n",
       "      <td>1548</td>\n",
       "      <td>teqnika/sivrcis-dasuftaveba</td>\n",
       "    </tr>\n",
       "    <tr>\n",
       "      <th>12</th>\n",
       "      <td>2039</td>\n",
       "      <td>teqnika/eleqtro-danadgarebi-khelsatsyoebi</td>\n",
       "    </tr>\n",
       "    <tr>\n",
       "      <th>13</th>\n",
       "      <td>1362</td>\n",
       "      <td>teqnika/batareebi-fanrebi</td>\n",
       "    </tr>\n",
       "    <tr>\n",
       "      <th>14</th>\n",
       "      <td>6390</td>\n",
       "      <td>teqnika/open-box</td>\n",
       "    </tr>\n",
       "  </tbody>\n",
       "</table>\n",
       "</div>"
      ],
      "text/plain": [
       "      id                                  full_slug\n",
       "0     59             teqnika/mobilurebi-aqsesuarebi\n",
       "1    111               teqnika/kompiuteruli-teqnika\n",
       "2    775            teqnika/planshetebi-aqsesuarebi\n",
       "3   2667           teqnika/televizorebi-aqsesuarebi\n",
       "4   7018                           teqnika/geimingi\n",
       "5   5281                   teqnika/mskhvili-teqnika\n",
       "6    829                     teqnika/smart-gajetebi\n",
       "7   8436                         teqnika/foto-video\n",
       "8    776                       teqnika/audioteqnika\n",
       "9   1233                        teqnika/tavis-movla\n",
       "10  1330                teqnika/samzareulos-teqnika\n",
       "11  1548                teqnika/sivrcis-dasuftaveba\n",
       "12  2039  teqnika/eleqtro-danadgarebi-khelsatsyoebi\n",
       "13  1362                  teqnika/batareebi-fanrebi\n",
       "14  6390                           teqnika/open-box"
      ]
     },
     "execution_count": 37,
     "metadata": {},
     "output_type": "execute_result"
    }
   ],
   "source": [
    "df = pd.DataFrame(tech_cat_data)\n",
    "df = category_df[['id', 'full_slug']]\n",
    "df"
   ]
  },
  {
   "cell_type": "code",
   "execution_count": 38,
   "id": "57fbd419-fe32-4a92-8271-a4f0de790b61",
   "metadata": {},
   "outputs": [
    {
     "data": {
      "text/plain": [
       "'https://veli.store/_next/data/O6jvrOse3zlGpiC7AWBmz/ka/category/teqnika/televizorebi-aqsesuarebi/2667.json?type=teqnika&type=televizorebi-aqsesuarebi&type=2667'"
      ]
     },
     "execution_count": 38,
     "metadata": {},
     "output_type": "execute_result"
    }
   ],
   "source": [
    "df['url'] = df.apply(lambda row: \n",
    "    f\"https://veli.store/_next/data/O6jvrOse3zlGpiC7AWBmz/ka/category/{row['full_slug']}/{row['id']}.json?\"\n",
    "    f\"type={row['full_slug'].split('/')[0]}&type={row['full_slug'].split('/')[1]}&type={row['id']}\", axis=1)\n",
    "df['url'][3]"
   ]
  },
  {
   "cell_type": "code",
   "execution_count": 39,
   "id": "4f61492c-e0b0-44cc-9129-e2d6d6cbbef0",
   "metadata": {},
   "outputs": [
    {
     "data": {
      "text/plain": [
       "'https://veli.store/_next/data/O6jvrOse3zlGpiC7AWBmz/ka/category/teqnika/mobilurebi-aqsesuarebi/mobiluri-telefonebi/60.json?type=teqnika&type=mobilurebi-aqsesuarebi&type=mobiluri-telefonebi&type=60'"
      ]
     },
     "execution_count": 39,
     "metadata": {},
     "output_type": "execute_result"
    }
   ],
   "source": [
    "resp = requests.get(df['url'][0])    \n",
    "resp = resp.json()\n",
    "resp = resp['pageProps']['data']['categories']\n",
    "df = pd.DataFrame(resp)\n",
    "df = df[['id', 'full_slug']]\n",
    "# https://veli.store/_next/data/O6jvrOse3zlGpiC7AWBmz/ka/category/teqnika/televizorebi-aqsesuarebi/televizorebi/2837.json?type=teqnika&type=televizorebi-aqsesuarebi&type=televizorebi&type=2837\n",
    "df['url'] = df.apply(lambda row: \n",
    "    f\"https://veli.store/_next/data/O6jvrOse3zlGpiC7AWBmz/ka/category/{row['full_slug']}/{row['id']}.json?\"\n",
    "    f\"type={row['full_slug'].split('/')[0]}&type={row['full_slug'].split('/')[1]}&type={row['full_slug'].split('/')[2]}&type={row['id']}\", axis=1)\n",
    "df['url'][0]"
   ]
  },
  {
   "cell_type": "code",
   "execution_count": 52,
   "id": "a468e97a-5706-4c21-83fb-4ef8f7372bfd",
   "metadata": {},
   "outputs": [
    {
     "data": {
      "text/plain": [
       "89"
      ]
     },
     "execution_count": 52,
     "metadata": {},
     "output_type": "execute_result"
    }
   ],
   "source": [
    "resp = requests.get('https://veli.store/_next/data/O6jvrOse3zlGpiC7AWBmz/ka/category/teqnika/mobilurebi-aqsesuarebi/mobiluri-telefonebi/60.json?type=teqnika&type=mobilurebi-aqsesuarebi&type=mobiluri-telefonebi&type=60&page_size=1000&page=3')\n",
    "resp = resp.json()\n",
    "# resp = resp['pageProps']['data']['products']\n",
    "e = pd.DataFrame(resp['pageProps']['data']['products'])\n",
    "\n",
    "resp['pageProps']['data']['total_product']"
   ]
  }
 ],
 "metadata": {
  "kernelspec": {
   "display_name": "Python 3 (ipykernel)",
   "language": "python",
   "name": "python3"
  },
  "language_info": {
   "codemirror_mode": {
    "name": "ipython",
    "version": 3
   },
   "file_extension": ".py",
   "mimetype": "text/x-python",
   "name": "python",
   "nbconvert_exporter": "python",
   "pygments_lexer": "ipython3",
   "version": "3.10.16"
  }
 },
 "nbformat": 4,
 "nbformat_minor": 5
}
