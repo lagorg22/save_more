{
 "cells": [
  {
   "cell_type": "code",
   "execution_count": 75,
   "id": "67b27ed6-c4b5-4da4-a78d-c8f615fc90a6",
   "metadata": {},
   "outputs": [],
   "source": [
    "import requests\n",
    "from bs4 import BeautifulSoup\n",
    "from sqlalchemy import create_engine, Column, Integer, String, Float, DateTime\n",
    "from sqlalchemy.orm import sessionmaker, declarative_base\n",
    "from datetime import datetime\n",
    "from sqlalchemy.dialects.postgresql import ARRAY\n",
    "from postgre_cred import database_url\n",
    "import json\n",
    "import random"
   ]
  },
  {
   "cell_type": "code",
   "execution_count": 86,
   "id": "7170c52c-38c2-462e-9eef-d9700715f484",
   "metadata": {},
   "outputs": [],
   "source": [
    "with open('links.json', 'r') as f:\n",
    "    stores = json.load(f)\n",
    "alta = stores['alta']"
   ]
  },
  {
   "cell_type": "code",
   "execution_count": 77,
   "id": "b8b7e484-7fd4-43bb-abf6-3fc15eb2ba82",
   "metadata": {},
   "outputs": [],
   "source": [
    "headers = {\n",
    "    \"User-Agent\": \"Mozilla/5.0 (Windows NT 10.0; Win64; x64) AppleWebKit/537.36 (KHTML, like Gecko) Chrome/120.0.0.0 Safari/537.36\"\n",
    "}"
   ]
  },
  {
   "cell_type": "code",
   "execution_count": 88,
   "id": "022578e2-f7e8-422c-91e0-f11169824e70",
   "metadata": {},
   "outputs": [],
   "source": [
    "def get_details(items):\n",
    "    result = []\n",
    "    for item in items:\n",
    "        name = item.select_one(\".product-title\").text.strip()\n",
    "        image_tags = item.select(\".ty-pict\")\n",
    "        images = [img[\"src\"] if \"src\" in img.attrs else img[\"data-src\"] for img in image_tags]\n",
    "        \n",
    "        old_price = item.select_one(\".ty-list-price\")\n",
    "        old_price = old_price.text.strip() if old_price else None\n",
    "        if old_price:\n",
    "            old_price = ''.join(c for c in old_price if c.isdigit() or c == '.')\n",
    "            old_price = float(old_price)\n",
    "            \n",
    "        current_price = item.select_one(\".ty-price-num\")\n",
    "        current_price = current_price.text.strip() if current_price else None\n",
    "        if not current_price:\n",
    "            continue\n",
    "    \n",
    "        product_url = item.select_one('.product-title')['href']\n",
    "\n",
    "        product_details = {\n",
    "            \"name\": name,\n",
    "            \"images\": images,\n",
    "            \"old_price\": old_price,\n",
    "            \"current_price\": current_price,\n",
    "            \"product_url\": product_url}\n",
    "\n",
    "        result.append(product_details)\n",
    "    return result"
   ]
  },
  {
   "cell_type": "code",
   "execution_count": 83,
   "id": "4dd0b884-c340-4ac8-add0-08cfd9c052fc",
   "metadata": {},
   "outputs": [],
   "source": [
    "def get_products(url):\n",
    "    url = f'{url}{random.randint(2234, 4532)}'\n",
    "    resp = requests.get(url, headers=headers)\n",
    "    print(url, '\\n', resp.status_code)\n",
    "    soup = BeautifulSoup(resp.text, \"html.parser\")\n",
    "    items = soup.select('#pagination_contents > div.grid-list > div')\n",
    "\n",
    "    products = get_details(items)\n",
    "    \n",
    "    return products"
   ]
  },
  {
   "cell_type": "code",
   "execution_count": 80,
   "id": "0e8cec71-80e6-441e-8223-4f8fded18c31",
   "metadata": {},
   "outputs": [],
   "source": [
    "engine = create_engine(database_url)\n",
    "Base = declarative_base()"
   ]
  },
  {
   "cell_type": "code",
   "execution_count": 81,
   "id": "bfa1c144-5b83-4c4b-afec-498a02a06991",
   "metadata": {},
   "outputs": [],
   "source": [
    "category_classes = {}\n",
    "\n",
    "# First create all table classes and store them\n",
    "for category_name in alta.keys():\n",
    "    # Only create the class if we haven't already\n",
    "    if category_name not in category_classes:\n",
    "        class_name = f\"{category_name.capitalize()}Table\"\n",
    "        \n",
    "        # Create a unique class for each category\n",
    "        category_classes[category_name] = type(\n",
    "            class_name, \n",
    "            (Base,),\n",
    "            {\n",
    "                \"__tablename__\": category_name,\n",
    "                \"item_id\": Column(Integer, primary_key=True, autoincrement=True),\n",
    "                \"name\": Column(String, nullable=False),\n",
    "                \"images\": Column(ARRAY(String), nullable=True),\n",
    "                \"old_price\": Column(Float, nullable=True),\n",
    "                \"current_price\": Column(Float, nullable=False),\n",
    "                \"update_date\": Column(DateTime, default=datetime.now, onupdate=datetime.now),\n",
    "                \"store_id\": Column(String, nullable=False, default='alta'),\n",
    "                \"product_url\": Column(String, nullable=False)\n",
    "            }\n",
    "        )\n",
    "\n",
    "# Now create all tables at once\n",
    "Base.metadata.create_all(engine)\n",
    "\n",
    "# Create a single session\n",
    "Session = sessionmaker(bind=engine)\n",
    "session = Session()"
   ]
  },
  {
   "cell_type": "code",
   "execution_count": 89,
   "id": "038a8ae9-d5bc-4c8e-b495-e546cdf147bd",
   "metadata": {},
   "outputs": [
    {
     "name": "stdout",
     "output_type": "stream",
     "text": [
      "https://alta.ge/computers-and-office/computer-accessories.html?items_per_page=4309 \n",
      " 200\n",
      "Added products for computer_accessories\n",
      "https://alta.ge/smart-home-and-car-tools/smart-home.html?items_per_page=2268 \n",
      " 200\n",
      "Added products for smart_home\n"
     ]
    }
   ],
   "source": [
    "for category, url in alta.items():\n",
    "    # Use the already created class\n",
    "    try:\n",
    "        CategoryClass = category_classes[category]\n",
    "        products = get_products(url)\n",
    "        for product in products:\n",
    "            new_product = CategoryClass(**product)\n",
    "            session.add(new_product)\n",
    "        # Commit once per category\n",
    "        session.commit()\n",
    "        print(f\"Added products for {category}\")\n",
    "    except Exception as e:\n",
    "        session.rollback()\n",
    "        print(f\"Error occurred: {e}\")\n",
    "    finally:\n",
    "        session.close()"
   ]
  }
 ],
 "metadata": {
  "kernelspec": {
   "display_name": "Python 3 (ipykernel)",
   "language": "python",
   "name": "python3"
  },
  "language_info": {
   "codemirror_mode": {
    "name": "ipython",
    "version": 3
   },
   "file_extension": ".py",
   "mimetype": "text/x-python",
   "name": "python",
   "nbconvert_exporter": "python",
   "pygments_lexer": "ipython3",
   "version": "3.10.16"
  }
 },
 "nbformat": 4,
 "nbformat_minor": 5
}
