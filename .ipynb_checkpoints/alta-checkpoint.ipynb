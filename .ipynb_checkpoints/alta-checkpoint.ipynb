{
 "cells": [
  {
   "cell_type": "code",
   "execution_count": 10,
   "id": "060d5a0e-cc8c-45a1-aff7-724c50d31fc3",
   "metadata": {},
   "outputs": [],
   "source": [
    "import requests\n",
    "from bs4 import BeautifulSoup"
   ]
  },
  {
   "cell_type": "code",
   "execution_count": 39,
   "id": "416b82fa-da87-4e68-a1d4-d223191ad279",
   "metadata": {},
   "outputs": [
    {
     "name": "stdin",
     "output_type": "stream",
     "text": [
      "Enter what you are looking for:  lenovo thinkpad\n"
     ]
    }
   ],
   "source": [
    "search_term = input('Enter what you are looking for: ')"
   ]
  },
  {
   "cell_type": "code",
   "execution_count": 40,
   "id": "81609fc4-d3ec-485f-97b7-08d18778aece",
   "metadata": {},
   "outputs": [],
   "source": [
    "headers = {\n",
    "    \"User-Agent\": \"Mozilla/5.0 (Windows NT 10.0; Win64; x64) AppleWebKit/537.36 (KHTML, like Gecko) Chrome/120.0.0.0 Safari/537.36\"\n",
    "}\n",
    "\n",
    "resp = requests.get(f'https://alta.ge/index.php?match=all&subcats=Y&pcode_from_q=Y&pshort=Y&pfull=Y&pname=Y&pkeywords=Y&search_performed=Y&q={search_term}&dispatch=products.search&security_hash=1deb9f0f14f7d85d836c5f7f47c7461c&item_per_page=1000&items_per_page=1000', headers=headers)\n"
   ]
  },
  {
   "cell_type": "code",
   "execution_count": 41,
   "id": "0ab8e797-12d5-445a-9f23-17910df07d27",
   "metadata": {},
   "outputs": [],
   "source": [
    "soup = BeautifulSoup(resp.text, \"html.parser\")"
   ]
  },
  {
   "cell_type": "code",
   "execution_count": 42,
   "id": "7e590add-cab9-4720-b866-1f4822060754",
   "metadata": {},
   "outputs": [],
   "source": [
    "items = soup.select('#pagination_contents > div.grid-list > div')"
   ]
  },
  {
   "cell_type": "code",
   "execution_count": 43,
   "id": "e8ce18b1-9ae2-4e17-9884-41454ff0398e",
   "metadata": {},
   "outputs": [
    {
     "data": {
      "text/plain": [
       "<div class=\"ty-column3\">\n",
       "<div class=\"ty-grid-list__item ty-quick-view-button__wrapper\"> <form action=\"https://alta.ge/\" class=\"cm-disable-empty-files cm-ajax cm-ajax-full-render cm-ajax-status-middle\" enctype=\"multipart/form-data\" method=\"post\" name=\"product_form_40670\">\n",
       "<input name=\"result_ids\" type=\"hidden\" value=\"cart_status*,wish_list*,checkout*,account_info*\">\n",
       "<input name=\"product_data[40670][product_id]\" type=\"hidden\" value=\"40670\">\n",
       "<div class=\"ty-grid-list__image\">\n",
       "<div class=\"ty-center-block\">\n",
       "<div class=\"ty-thumbs-wrapper owl-carousel cm-image-gallery\" data-ca-items-count=\"1\" data-ca-items-responsive=\"true\" id=\"icons_40670\">\n",
       "<div class=\"cm-gallery-item cm-item-gallery\">\n",
       "<a href=\"https://alta.ge/computers-and-office/pcs-notebooks-tablets/notebooks/lenovo-thinkpad-t14-gen-3-21ajs0he00-black.html\">\n",
       "<img alt=\"\" class=\"ty-pict cm-image\" height=\"250\" id=\"det_img_40670\" src=\"https://alta.ge/images/thumbnails/270/250/detailed/256/131470_1.png.jpg\" title=\"\" width=\"270\"/>\n",
       "</a>\n",
       "</div>\n",
       "<div class=\"cm-gallery-item cm-item-gallery\">\n",
       "<a href=\"https://alta.ge/computers-and-office/pcs-notebooks-tablets/notebooks/lenovo-thinkpad-t14-gen-3-21ajs0he00-black.html\">\n",
       "<img alt=\"\" class=\"ty-pict lazyOwl cm-image\" data-src=\"https://alta.ge/images/thumbnails/270/250/detailed/256/5_q3qw-9k.png.jpg\" height=\"250\" id=\"det_img_40670\" title=\"\" width=\"270\"/>\n",
       "</a>\n",
       "</div>\n",
       "<div class=\"cm-gallery-item cm-item-gallery\">\n",
       "<a href=\"https://alta.ge/computers-and-office/pcs-notebooks-tablets/notebooks/lenovo-thinkpad-t14-gen-3-21ajs0he00-black.html\">\n",
       "<img alt=\"\" class=\"ty-pict lazyOwl cm-image\" data-src=\"https://alta.ge/images/thumbnails/270/250/detailed/256/2_184d-ll.png.jpg\" height=\"250\" id=\"det_img_40670\" title=\"\" width=\"270\"/>\n",
       "</a>\n",
       "</div>\n",
       "<div class=\"cm-gallery-item cm-item-gallery\">\n",
       "<a href=\"https://alta.ge/computers-and-office/pcs-notebooks-tablets/notebooks/lenovo-thinkpad-t14-gen-3-21ajs0he00-black.html\">\n",
       "<img alt=\"\" class=\"ty-pict lazyOwl cm-image\" data-src=\"https://alta.ge/images/thumbnails/270/250/detailed/256/3_i7fg-dh.png.jpg\" height=\"250\" id=\"det_img_40670\" title=\"\" width=\"270\"/>\n",
       "</a>\n",
       "</div>\n",
       "<div class=\"cm-gallery-item cm-item-gallery\">\n",
       "<a href=\"https://alta.ge/computers-and-office/pcs-notebooks-tablets/notebooks/lenovo-thinkpad-t14-gen-3-21ajs0he00-black.html\">\n",
       "<img alt=\"\" class=\"ty-pict lazyOwl cm-image\" data-src=\"https://alta.ge/images/thumbnails/270/250/detailed/256/4_xp7c-4v.png.jpg\" height=\"250\" id=\"det_img_40670\" title=\"\" width=\"270\"/>\n",
       "</a>\n",
       "</div>\n",
       "<div class=\"cm-gallery-item cm-item-gallery\">\n",
       "<a href=\"https://alta.ge/computers-and-office/pcs-notebooks-tablets/notebooks/lenovo-thinkpad-t14-gen-3-21ajs0he00-black.html\">\n",
       "<img alt=\"\" class=\"ty-pict lazyOwl cm-image\" data-src=\"https://alta.ge/images/thumbnails/270/250/detailed/256/6_2yxf-yc.png.jpg\" height=\"250\" id=\"det_img_40670\" title=\"\" width=\"270\"/>\n",
       "</a>\n",
       "</div>\n",
       "<div class=\"cm-gallery-item cm-item-gallery\">\n",
       "<a href=\"https://alta.ge/computers-and-office/pcs-notebooks-tablets/notebooks/lenovo-thinkpad-t14-gen-3-21ajs0he00-black.html\">\n",
       "<img alt=\"\" class=\"ty-pict lazyOwl cm-image\" data-src=\"https://alta.ge/images/thumbnails/270/250/detailed/256/7_wofn-ko.png.jpg\" height=\"250\" id=\"det_img_40670\" title=\"\" width=\"270\"/>\n",
       "</a>\n",
       "</div>\n",
       "<div class=\"cm-gallery-item cm-item-gallery\">\n",
       "<a href=\"https://alta.ge/computers-and-office/pcs-notebooks-tablets/notebooks/lenovo-thinkpad-t14-gen-3-21ajs0he00-black.html\">\n",
       "<img alt=\"\" class=\"ty-pict lazyOwl cm-image\" data-src=\"https://alta.ge/images/thumbnails/270/250/detailed/256/8_8mxc-0j.png.jpg\" height=\"250\" id=\"det_img_40670\" title=\"\" width=\"270\"/>\n",
       "</a>\n",
       "</div>\n",
       "<div class=\"cm-gallery-item cm-item-gallery\">\n",
       "<a href=\"https://alta.ge/computers-and-office/pcs-notebooks-tablets/notebooks/lenovo-thinkpad-t14-gen-3-21ajs0he00-black.html\">\n",
       "<img alt=\"\" class=\"ty-pict lazyOwl cm-image\" data-src=\"https://alta.ge/images/thumbnails/270/250/detailed/256/9_xjqd-03.png.jpg\" height=\"250\" id=\"det_img_40670\" title=\"\" width=\"270\"/>\n",
       "</a>\n",
       "</div>\n",
       "<div class=\"cm-gallery-item cm-item-gallery\">\n",
       "<a href=\"https://alta.ge/computers-and-office/pcs-notebooks-tablets/notebooks/lenovo-thinkpad-t14-gen-3-21ajs0he00-black.html\">\n",
       "<img alt=\"\" class=\"ty-pict lazyOwl cm-image\" data-src=\"https://alta.ge/images/thumbnails/270/250/detailed/256/10_uxt2-ax.png.jpg\" height=\"250\" id=\"det_img_40670\" title=\"\" width=\"270\"/>\n",
       "</a>\n",
       "</div>\n",
       "</div>\n",
       "</div>\n",
       "<span class=\"\" id=\"image_preview_update_26_40670\" style=\"\n",
       "    right:0px;     top:0px;     transform: translate(0%,0%);\n",
       "            width: 70px;\n",
       "        position: absolute;\n",
       "    z-index: 100;\">\n",
       "<img src=\"https://alta.ge/images/promo/298/sq_sale.png\" style=\"border-radius: 0px; max-width: 70px\"/>\n",
       "<!--image_preview_update_26_40670--></span>\n",
       "</div>\n",
       "<div class=\"ty-grid-list__item-name\">\n",
       "<bdi> <a class=\"product-title\" href=\"https://alta.ge/computers-and-office/pcs-notebooks-tablets/notebooks/lenovo-thinkpad-t14-gen-3-21ajs0he00-black.html\">Lenovo ThinkPad T14 Gen 3 (21AJS0HE00) - Black</a> </bdi>\n",
       "</div>\n",
       "<div class=\"grid-list__rating\">\n",
       "</div>\n",
       "<div class=\"ty-grid-list__price\">\n",
       "<span class=\"cm-reload-40670\" id=\"old_price_update_40670\">\n",
       "<span class=\"ty-list-price ty-nowrap\" id=\"line_list_price_40670\"><span class=\"ty-strike\"><span class=\"ty-list-price ty-nowrap\" id=\"sec_list_price_40670\">3599</span> <span class=\"nj-currency-ty-list-price ty-nowrap\">₾</span></span></span>\n",
       "<!--old_price_update_40670--></span>\n",
       "<span class=\"cm-reload-40670 ty-price-update\" id=\"price_update_40670\">\n",
       "<input name=\"appearance[show_price_values]\" type=\"hidden\" value=\"1\">\n",
       "<input name=\"appearance[show_price]\" type=\"hidden\" value=\"1\">\n",
       "<span class=\"ty-price\" id=\"line_discounted_price_40670\"><span class=\"ty-price-num\" id=\"sec_discounted_price_40670\">2299</span> <span class=\"nj-currency-ty-price-num\">₾</span></span>\n",
       "<!--price_update_40670--></input></input></span>\n",
       "</div>\n",
       "<input class=\"cm-no-hide-input\" name=\"security_hash\" type=\"hidden\" value=\"b897150955abec211da8a9740fb9f03c\"/></input></input></form>\n",
       "</div></div>"
      ]
     },
     "execution_count": 43,
     "metadata": {},
     "output_type": "execute_result"
    }
   ],
   "source": [
    "items[0]"
   ]
  },
  {
   "cell_type": "code",
   "execution_count": 44,
   "id": "3e39109c-149b-42fd-87a9-a826f9c9519e",
   "metadata": {},
   "outputs": [
    {
     "data": {
      "text/plain": [
       "'Lenovo ThinkPad T14 Gen 3 (21AJS0HE00) - Black'"
      ]
     },
     "execution_count": 44,
     "metadata": {},
     "output_type": "execute_result"
    }
   ],
   "source": [
    "item = items[0]\n",
    "title = item.select_one(\".product-title\").text.strip()\n",
    "title"
   ]
  },
  {
   "cell_type": "code",
   "execution_count": 45,
   "id": "2df00b3f-6604-43b4-aa0c-93ccb2732ff7",
   "metadata": {},
   "outputs": [
    {
     "data": {
      "text/plain": [
       "['https://alta.ge/images/thumbnails/270/250/detailed/256/131470_1.png.jpg',\n",
       " 'https://alta.ge/images/thumbnails/270/250/detailed/256/5_q3qw-9k.png.jpg',\n",
       " 'https://alta.ge/images/thumbnails/270/250/detailed/256/2_184d-ll.png.jpg',\n",
       " 'https://alta.ge/images/thumbnails/270/250/detailed/256/3_i7fg-dh.png.jpg',\n",
       " 'https://alta.ge/images/thumbnails/270/250/detailed/256/4_xp7c-4v.png.jpg',\n",
       " 'https://alta.ge/images/thumbnails/270/250/detailed/256/6_2yxf-yc.png.jpg',\n",
       " 'https://alta.ge/images/thumbnails/270/250/detailed/256/7_wofn-ko.png.jpg',\n",
       " 'https://alta.ge/images/thumbnails/270/250/detailed/256/8_8mxc-0j.png.jpg',\n",
       " 'https://alta.ge/images/thumbnails/270/250/detailed/256/9_xjqd-03.png.jpg',\n",
       " 'https://alta.ge/images/thumbnails/270/250/detailed/256/10_uxt2-ax.png.jpg']"
      ]
     },
     "execution_count": 45,
     "metadata": {},
     "output_type": "execute_result"
    }
   ],
   "source": [
    "image_tags = item.select(\".ty-pict\")\n",
    "image_urls = [img[\"src\"] if \"src\" in img.attrs else img[\"data-src\"] for img in image_tags]\n",
    "image_urls"
   ]
  },
  {
   "cell_type": "code",
   "execution_count": 46,
   "id": "b3d27c02-c1bb-49cb-a7d3-3695503a6e69",
   "metadata": {},
   "outputs": [
    {
     "name": "stdout",
     "output_type": "stream",
     "text": [
      "3599 ₾\n",
      "2299\n"
     ]
    }
   ],
   "source": [
    "old_price = item.select_one(\".ty-list-price\")\n",
    "old_price = old_price.text.strip() if old_price else \"No old price\"\n",
    "\n",
    "discounted_price = item.select_one(\".ty-price-num\").text.strip()\n",
    "\n",
    "print(old_price)\n",
    "print(discounted_price)"
   ]
  },
  {
   "cell_type": "code",
   "execution_count": 47,
   "id": "96757e99-4710-4820-920c-69a354028aba",
   "metadata": {},
   "outputs": [
    {
     "data": {
      "text/plain": [
       "'https://alta.ge/computers-and-office/pcs-notebooks-tablets/notebooks/lenovo-thinkpad-t14-gen-3-21ajs0he00-black.html'"
      ]
     },
     "execution_count": 47,
     "metadata": {},
     "output_type": "execute_result"
    }
   ],
   "source": [
    "product_url = item.select_one('.product-title')['href']\n",
    "product_url"
   ]
  }
 ],
 "metadata": {
  "kernelspec": {
   "display_name": "Python 3 (ipykernel)",
   "language": "python",
   "name": "python3"
  },
  "language_info": {
   "codemirror_mode": {
    "name": "ipython",
    "version": 3
   },
   "file_extension": ".py",
   "mimetype": "text/x-python",
   "name": "python",
   "nbconvert_exporter": "python",
   "pygments_lexer": "ipython3",
   "version": "3.10.16"
  }
 },
 "nbformat": 4,
 "nbformat_minor": 5
}
