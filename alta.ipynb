{
 "cells": [
  {
   "cell_type": "code",
   "execution_count": 20,
   "id": "060d5a0e-cc8c-45a1-aff7-724c50d31fc3",
   "metadata": {},
   "outputs": [],
   "source": [
    "import requests\n",
    "from bs4 import BeautifulSoup"
   ]
  },
  {
   "cell_type": "code",
   "execution_count": 70,
   "id": "416b82fa-da87-4e68-a1d4-d223191ad279",
   "metadata": {},
   "outputs": [
    {
     "name": "stdin",
     "output_type": "stream",
     "text": [
      "Enter what you are looking for:  apple\n"
     ]
    }
   ],
   "source": [
    "search_term = input('Enter what you are looking for: ')"
   ]
  },
  {
   "cell_type": "code",
   "execution_count": 71,
   "id": "81609fc4-d3ec-485f-97b7-08d18778aece",
   "metadata": {},
   "outputs": [],
   "source": [
    "headers = {\n",
    "    \"User-Agent\": \"Mozilla/5.0 (Windows NT 10.0; Win64; x64) AppleWebKit/537.36 (KHTML, like Gecko) Chrome/120.0.0.0 Safari/537.36\"\n",
    "}\n",
    "\n",
    "resp = requests.get(f'https://alta.ge/index.php?match=all&subcats=Y&pcode_from_q=Y&pshort=Y&pfull=Y&pname=Y&pkeywords=Y&search_performed=Y&q={search_term}&dispatch=products.search&security_hash=1deb9f0f14f7d85d836c5f7f47c7461c&item_per_page=1000&items_per_page=1000', headers=headers)\n"
   ]
  },
  {
   "cell_type": "code",
   "execution_count": 72,
   "id": "0ab8e797-12d5-445a-9f23-17910df07d27",
   "metadata": {},
   "outputs": [],
   "source": [
    "soup = BeautifulSoup(resp.text, \"html.parser\")"
   ]
  },
  {
   "cell_type": "code",
   "execution_count": 73,
   "id": "7e590add-cab9-4720-b866-1f4822060754",
   "metadata": {},
   "outputs": [],
   "source": [
    "items = soup.select('#pagination_contents > div.grid-list > div')"
   ]
  },
  {
   "cell_type": "code",
   "execution_count": 16,
   "id": "236372cd-cabb-43ba-95b2-ae0398c41cab",
   "metadata": {},
   "outputs": [],
   "source": [
    "from sqlalchemy import create_engine, Column, Integer, String, Float, DateTime\n",
    "from sqlalchemy.orm import sessionmaker, declarative_base\n",
    "from datetime import datetime\n",
    "from sqlalchemy.dialects.postgresql import ARRAY\n",
    "from postgre_cred import database_url"
   ]
  },
  {
   "cell_type": "code",
   "execution_count": 17,
   "id": "b949a915-632f-4314-ad22-38fed00e2a64",
   "metadata": {},
   "outputs": [],
   "source": [
    "engine = create_engine(database_url)\n",
    "Base = declarative_base()"
   ]
  },
  {
   "cell_type": "code",
   "execution_count": 18,
   "id": "d0e0dddf-7001-4f35-a4e2-4cbe81a81cc7",
   "metadata": {},
   "outputs": [],
   "source": [
    "class Alta(Base):\n",
    "    __tablename__ = 'alta'\n",
    "\n",
    "    item_id = Column(Integer, primary_key=True, autoincrement=True)\n",
    "    name = Column(String, nullable=False)\n",
    "    images = Column(ARRAY(String), nullable=True)  # Using ARRAY for image URLs\n",
    "    old_price = Column(Float, nullable=True)\n",
    "    new_price = Column(Float, nullable=False)\n",
    "    update_date = Column(DateTime, default=datetime.now, onupdate=datetime.now)\n",
    "    store_id = Column(String, default=\"alta\", nullable=False)  # Default value is 'alta'\n",
    "    product_url = Column(String, nullable=False)  # The URL of the product"
   ]
  },
  {
   "cell_type": "code",
   "execution_count": 30,
   "id": "09ef0ce0-95ec-4241-814d-7ef648db4437",
   "metadata": {},
   "outputs": [],
   "source": [
    "Base.metadata.create_all(engine)\n",
    "\n",
    "# Create a session\n",
    "Session = sessionmaker(bind=engine)\n",
    "session = Session()"
   ]
  },
  {
   "cell_type": "code",
   "execution_count": 31,
   "id": "aa750b7a-aed3-4be7-970a-390181e9f183",
   "metadata": {},
   "outputs": [],
   "source": [
    "def add_product(name, images, old_price, new_price, product_url):\n",
    "    product = Alta(\n",
    "        name=name,\n",
    "        images=images,  # Directly passing the list of URLs\n",
    "        old_price=old_price,\n",
    "        new_price=new_price,\n",
    "        product_url=product_url,  # Pass the product URL\n",
    "    )\n",
    "    \n",
    "    session.add(product)\n",
    "    session.commit()"
   ]
  },
  {
   "cell_type": "code",
   "execution_count": 74,
   "id": "b409b298-c02b-4c5e-b1c6-c7501d8a3aa0",
   "metadata": {},
   "outputs": [],
   "source": [
    "for item in items:\n",
    "    name = item.select_one(\".product-title\").text.strip()\n",
    "    image_tags = item.select(\".ty-pict\")\n",
    "    images = [img[\"src\"] if \"src\" in img.attrs else img[\"data-src\"] for img in image_tags]\n",
    "    \n",
    "    old_price = item.select_one(\".ty-list-price\")\n",
    "    old_price = old_price.text.strip() if old_price else None\n",
    "    if old_price:\n",
    "        old_price = ''.join(c for c in old_price if c.isdigit() or c == '.')\n",
    "        old_price = float(old_price)\n",
    "        \n",
    "    new_price = item.select_one(\".ty-price-num\").text.strip()\n",
    "    new_price = float(new_price)\n",
    "\n",
    "    product_url = item.select_one('.product-title')['href']\n",
    "    \n",
    "    add_product(name, images, old_price, new_price, product_url)\n",
    "    "
   ]
  }
 ],
 "metadata": {
  "kernelspec": {
   "display_name": "Python 3 (ipykernel)",
   "language": "python",
   "name": "python3"
  },
  "language_info": {
   "codemirror_mode": {
    "name": "ipython",
    "version": 3
   },
   "file_extension": ".py",
   "mimetype": "text/x-python",
   "name": "python",
   "nbconvert_exporter": "python",
   "pygments_lexer": "ipython3",
   "version": "3.10.16"
  }
 },
 "nbformat": 4,
 "nbformat_minor": 5
}
