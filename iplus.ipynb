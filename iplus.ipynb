{
 "cells": [
  {
   "cell_type": "code",
   "execution_count": 68,
   "id": "756dc641-0329-4c3d-9d02-04fe1f8366be",
   "metadata": {},
   "outputs": [],
   "source": [
    "import pandas as pd\n",
    "from datetime import datetime\n",
    "import requests\n",
    "from bs4 import BeautifulSoup\n",
    "from postgre_cred import database_url\n",
    "from sqlalchemy import create_engine\n",
    "import json\n",
    "import random"
   ]
  },
  {
   "cell_type": "code",
   "execution_count": 93,
   "id": "be558122-f5a9-4e21-aee5-773a25b4877d",
   "metadata": {},
   "outputs": [
    {
     "name": "stdout",
     "output_type": "stream",
     "text": [
      "\n",
      " https://iplus.com.ge/ka/iphone-ka/?items_per_page=\n",
      " 200\n",
      "\n",
      "Error processing a product: 'NoneType' object is not subscriptable\n",
      "Successfully exported iplus_iphone.\n",
      "\n",
      " https://iplus.com.ge/ka/mac/?items_per_page=\n",
      " 200\n",
      "\n",
      "Error processing a product: 'NoneType' object has no attribute 'text'\n",
      "Error processing a product: 'NoneType' object has no attribute 'text'\n",
      "Successfully exported iplus_mac.\n",
      "\n",
      " https://iplus.com.ge/ka/ipad/?items_per_page=\n",
      " 200\n",
      "\n",
      "Error processing a product: 'NoneType' object has no attribute 'text'\n",
      "Error processing a product: 'NoneType' object has no attribute 'text'\n",
      "Successfully exported iplus_ipad.\n",
      "\n",
      " https://iplus.com.ge/ka/watch/?items_per_page=\n",
      " 200\n",
      "\n",
      "Error processing a product: 'NoneType' object has no attribute 'text'\n",
      "Error processing a product: 'NoneType' object has no attribute 'text'\n",
      "Successfully exported iplus_watch.\n",
      "\n",
      " https://iplus.com.ge/ka/console/?items_per_page=\n",
      " 200\n",
      "\n",
      "Error processing a product: 'NoneType' object has no attribute 'text'\n",
      "Error processing a product: 'NoneType' object has no attribute 'text'\n",
      "Successfully exported iplus_console.\n",
      "\n",
      " https://iplus.com.ge/ka/music/?items_per_page=\n",
      " 200\n",
      "\n",
      "Error processing a product: 'NoneType' object has no attribute 'text'\n",
      "Error processing a product: 'NoneType' object has no attribute 'text'\n",
      "Successfully exported iplus_music.\n",
      "\n",
      " https://iplus.com.ge/ka/camera-tv/?items_per_page=\n",
      " 200\n",
      "\n",
      "Error processing a product: 'NoneType' object has no attribute 'text'\n",
      "Error processing a product: 'NoneType' object has no attribute 'text'\n",
      "Successfully exported iplus_camera_android.\n",
      "\n",
      " https://iplus.com.ge/ka/dyson/?items_per_page=\n",
      " 200\n",
      "\n",
      "Successfully exported iplus_dyson.\n",
      "\n",
      " https://iplus.com.ge/ka/lego/?items_per_page=\n",
      " 200\n",
      "\n",
      "Error processing a product: 'NoneType' object has no attribute 'text'\n",
      "Error processing a product: 'NoneType' object has no attribute 'text'\n",
      "Successfully exported iplus_others.\n"
     ]
    }
   ],
   "source": [
    "with open('links.json', 'r') as f:\n",
    "    urls = json.load(f)\n",
    "iplus = urls['iplus']\n",
    "for db_name, url in iplus.items():\n",
    "    try:\n",
    "        \n",
    "        items = get_items(url)\n",
    "        data = get_data(items)\n",
    "        engine = create_engine(database_url)\n",
    "        df = pd.DataFrame(data)\n",
    "        df = clean_data(df)\n",
    "        df.to_sql(db_name, con=engine, if_exists='replace', index=True)\n",
    "        print(f'Successfully exported {db_name}.')\n",
    "    except Exception as e:\n",
    "        print(f'Error occured on {db_name}')"
   ]
  },
  {
   "cell_type": "code",
   "execution_count": 92,
   "id": "26c40379-70b8-4d5d-835c-3771b19f19d5",
   "metadata": {},
   "outputs": [],
   "source": [
    "def clean_data(df: pd.DataFrame):\n",
    "    df.loc[:, 'current_price'] = df['current_price'].astype(float)\n",
    "    df.loc[:, 'old_price'] = df['old_price'].astype(float)\n",
    "    df['update_date'] = datetime.now()\n",
    "    return df"
   ]
  },
  {
   "cell_type": "code",
   "execution_count": 56,
   "id": "863cb4ec-7c49-4a3a-b053-b2fc9e1501ec",
   "metadata": {},
   "outputs": [],
   "source": [
    "def get_items(url):\n",
    "    resp = requests.get(f'{url}{random.randint(4444, 5555)}')\n",
    "    print(f'\\n {url}\\n {resp.status_code}\\n')\n",
    "    soup = BeautifulSoup(resp.text, 'html.parser')\n",
    "    items = soup.select('#categories_view_pagination_contents > div')\n",
    "    return items"
   ]
  },
  {
   "cell_type": "code",
   "execution_count": 41,
   "id": "494f0823-e501-4323-bae9-8cc205b91de6",
   "metadata": {},
   "outputs": [],
   "source": [
    "\n",
    "def get_data(items) :\n",
    "    products = []\n",
    "    for product in items:\n",
    "        try:\n",
    "            name = product.select_one(\".ut2-gl__name a\").text.strip()\n",
    "            product_url = product.select_one(\".ut2-gl__name a\")[\"href\"]\n",
    "            image = product.select_one(\".ut2-gl__image img\")[\"data-src\"]\n",
    "    \n",
    "            # Handle old price (may be missing)\n",
    "            old_price_tag = product.select_one(\".ty-strike .ty-list-price\")  # Select only strikethrough price\n",
    "            old_price = old_price_tag.text.strip() if old_price_tag else None  \n",
    "    \n",
    "            # Handle current price (may be missing)\n",
    "            current_price_tag = product.select_one(\".ty-price-num\")\n",
    "            current_price = current_price_tag.text.strip() if current_price_tag else None  \n",
    "    \n",
    "            products.append({\n",
    "                \"name\": name,\n",
    "                \"product_url\": product_url,\n",
    "                \"image\": image,\n",
    "                \"old_price\": old_price,\n",
    "                \"current_price\": current_price\n",
    "            })\n",
    "        \n",
    "        except Exception as e:\n",
    "            print(f\"Error processing a product: {e}\")\n",
    "    return products"
   ]
  },
  {
   "cell_type": "code",
   "execution_count": null,
   "id": "4cdde77d-2816-4704-b525-609ffcab8875",
   "metadata": {},
   "outputs": [],
   "source": []
  }
 ],
 "metadata": {
  "kernelspec": {
   "display_name": "Python 3 (ipykernel)",
   "language": "python",
   "name": "python3"
  },
  "language_info": {
   "codemirror_mode": {
    "name": "ipython",
    "version": 3
   },
   "file_extension": ".py",
   "mimetype": "text/x-python",
   "name": "python",
   "nbconvert_exporter": "python",
   "pygments_lexer": "ipython3",
   "version": "3.10.16"
  }
 },
 "nbformat": 4,
 "nbformat_minor": 5
}
