{
 "cells": [
  {
   "cell_type": "code",
   "execution_count": 20,
   "id": "c97fac1a-bd38-4d5a-8f73-c3f675d9a7eb",
   "metadata": {},
   "outputs": [],
   "source": [
    "import requests\n",
    "from bs4 import BeautifulSoup"
   ]
  },
  {
   "cell_type": "code",
   "execution_count": 23,
   "id": "efa6a7c9-cfab-4662-9b7b-8cda362b3604",
   "metadata": {},
   "outputs": [],
   "source": [
    "resp = requests.get('https://kontakt.ge/mobilurebi-da-aksesuarebi/mobiluri-telefonebi?p=6&aln=✓')"
   ]
  },
  {
   "cell_type": "code",
   "execution_count": 25,
   "id": "997425d7-1382-4822-9d35-924042bbbf67",
   "metadata": {},
   "outputs": [],
   "source": [
    "soup = BeautifulSoup(resp.text, \"html.parser\")"
   ]
  },
  {
   "cell_type": "code",
   "execution_count": 26,
   "id": "68a08e40-a136-433c-a33f-7757ae593b21",
   "metadata": {},
   "outputs": [],
   "source": [
    "items = soup.find_all('div', class_='prodItem product-item')"
   ]
  },
  {
   "cell_type": "code",
   "execution_count": 27,
   "id": "32b4d2b7-e6d6-475b-b48a-bd0278cbce77",
   "metadata": {},
   "outputs": [
    {
     "ename": "IndexError",
     "evalue": "list index out of range",
     "output_type": "error",
     "traceback": [
      "\u001b[0;31m---------------------------------------------------------------------------\u001b[0m",
      "\u001b[0;31mIndexError\u001b[0m                                Traceback (most recent call last)",
      "Cell \u001b[0;32mIn[27], line 1\u001b[0m\n\u001b[0;32m----> 1\u001b[0m \u001b[43mitems\u001b[49m\u001b[43m[\u001b[49m\u001b[38;5;241;43m0\u001b[39;49m\u001b[43m]\u001b[49m\n",
      "\u001b[0;31mIndexError\u001b[0m: list index out of range"
     ]
    }
   ],
   "source": [
    "items[0]"
   ]
  }
 ],
 "metadata": {
  "kernelspec": {
   "display_name": "Python 3 (ipykernel)",
   "language": "python",
   "name": "python3"
  },
  "language_info": {
   "codemirror_mode": {
    "name": "ipython",
    "version": 3
   },
   "file_extension": ".py",
   "mimetype": "text/x-python",
   "name": "python",
   "nbconvert_exporter": "python",
   "pygments_lexer": "ipython3",
   "version": "3.10.16"
  }
 },
 "nbformat": 4,
 "nbformat_minor": 5
}
