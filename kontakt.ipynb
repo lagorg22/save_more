{
 "cells": [
  {
   "cell_type": "code",
   "execution_count": 1,
   "id": "c97fac1a-bd38-4d5a-8f73-c3f675d9a7eb",
   "metadata": {},
   "outputs": [],
   "source": [
    "import requests\n",
    "from bs4 import BeautifulSoup\n",
    "import pandas as pd"
   ]
  },
  {
   "cell_type": "code",
   "execution_count": 2,
   "id": "6941b035-758a-4ed0-982b-dd6a4c37b47e",
   "metadata": {},
   "outputs": [],
   "source": [
    "from selenium import webdriver\n",
    "from selenium.webdriver.common.by import By\n",
    "from selenium.webdriver.support.ui import WebDriverWait\n",
    "from selenium.webdriver.support import expected_conditions as EC\n",
    "from selenium.webdriver.chrome.options import Options\n",
    "\n",
    "options = Options()\n",
    "options.add_argument(\"--headless\")  # Run in headless mode\n",
    "options.add_argument(\"--disable-gpu\")  # Sometimes needed for Windows\n",
    "options.add_argument(\"--window-size=1200,800\")  # Optional: set window size\n",
    "\n",
    "driver = webdriver.Chrome(options=options)\n",
    "# Open the target website\n",
    "driver.get(\"https://kontakt.ge\")  # Replace with your actual URL\n",
    "driver.maximize_window()\n",
    "\n",
    "try:\n",
    "    # Wait until the button is visible and clickable\n",
    "    button = WebDriverWait(driver, 10).until(\n",
    "        EC.element_to_be_clickable((By.XPATH, '//*[@id=\"html-body\"]/div[1]/header/div[3]/div/div[1]/button'))  # Change selector as needed\n",
    "    )\n",
    "    \n",
    "    # Click the button\n",
    "    button.click()\n",
    "\n",
    "    # # Wait for the page to update (e.g., waiting for a new element to load)\n",
    "    WebDriverWait(driver, 3).until(\n",
    "        EC.presence_of_element_located((By.XPATH, '//*[@id=\"html-body\"]/div[1]/header/div[3]/div/div[1]/div/div/div/nav/ul/li[1]'))  # Change selector as needed\n",
    "    )\n",
    "\n",
    "    # Get the updated HTML source\n",
    "    full_html = driver.page_source\n",
    "\n",
    "    # Print or save the HTML\n",
    "    # print(full_html)\n",
    "\n",
    "finally:\n",
    "    # Close the browser\n",
    "    driver.quit()\n"
   ]
  },
  {
   "cell_type": "code",
   "execution_count": 3,
   "id": "53b112d7-7fee-41a7-aeb7-be5d5cf418bc",
   "metadata": {},
   "outputs": [],
   "source": [
    "menu = full_html"
   ]
  },
  {
   "cell_type": "code",
   "execution_count": 4,
   "id": "a932061e-677d-42bf-ab20-048ddec4ca78",
   "metadata": {},
   "outputs": [],
   "source": [
    "s = BeautifulSoup(menu, 'html.parser')"
   ]
  },
  {
   "cell_type": "code",
   "execution_count": 5,
   "id": "0f2eb81d-9469-4d31-ac2f-ad24706f9efb",
   "metadata": {},
   "outputs": [],
   "source": [
    "menu_items = s.select('#html-body > div.wrapper > header > div.header__bottom > div > div.row.col-auto.col-lg.menu-wrapper > div > div > div > nav > ul > li')"
   ]
  },
  {
   "cell_type": "code",
   "execution_count": 18,
   "id": "f1e3f8d5-a972-48cd-a968-74ccb8f39c4d",
   "metadata": {},
   "outputs": [],
   "source": [
    "main_cat = menu_items[6]"
   ]
  },
  {
   "cell_type": "code",
   "execution_count": 14,
   "id": "1b91e5de-2a08-4da5-970d-42fd0d4eaee7",
   "metadata": {},
   "outputs": [],
   "source": [
    "def extract_leaf_links(soup):\n",
    "    # soup = BeautifulSoup(html_content, 'html.parser')\n",
    "    \n",
    "    # Dictionary to store categories and their links\n",
    "    categories = {}\n",
    "    \n",
    "    # Find all content menu items\n",
    "    content_menu_items = soup.select('.contentMenu__item')\n",
    "    \n",
    "    for item in content_menu_items:\n",
    "        # Get category title\n",
    "        title_element = item.select_one('.contentMenu__title')\n",
    "        if title_element:\n",
    "            category_title = title_element.text.strip()\n",
    "            categories[category_title] = []\n",
    "            \n",
    "            # Get all links in this category\n",
    "            links = item.select('.contentMenu__ul ul a')\n",
    "            for link in links:\n",
    "                href = link.get('href')\n",
    "                text = link.text.strip()\n",
    "                categories[category_title].append({\n",
    "                    'text': text,\n",
    "                    'url': href\n",
    "                })\n",
    "    \n",
    "    # Handle the standalone category if it exists\n",
    "    standalone_cats = soup.select('.contentMenu__item > .contentMenu__title')\n",
    "    for cat in standalone_cats:\n",
    "        if not cat.find_next_sibling('.contentMenu__ul'):\n",
    "            standalone_title = cat.text.strip()\n",
    "            standalone_url = cat.get('href')\n",
    "            if standalone_title not in categories:\n",
    "                categories[standalone_title] = []\n",
    "                categories[standalone_title].append({\n",
    "                    'text': standalone_title,\n",
    "                    'url': standalone_url\n",
    "                })\n",
    "    \n",
    "    return categories"
   ]
  },
  {
   "cell_type": "code",
   "execution_count": 19,
   "id": "017bbec8-00ec-425c-afe4-1151cd75cd85",
   "metadata": {},
   "outputs": [
    {
     "data": {
      "text/plain": [
       "{'მსხვილი საყოფაცხოვრებო ტექნიკა': [{'text': 'მაცივრები',\n",
       "   'url': 'https://kontakt.ge/saqophatskhovrebo-teknika/mskhvili-saqophatskhovrebo-teknika/matsivrebi'},\n",
       "  {'text': 'სარეცხი მანქანები',\n",
       "   'url': 'https://kontakt.ge/saqophatskhovrebo-teknika/mskhvili-saqophatskhovrebo-teknika/saretskhi-mankanebi'},\n",
       "  {'text': 'ჭურჭლის სარეცხი მანქანები',\n",
       "   'url': 'https://kontakt.ge/saqophatskhovrebo-teknika/mskhvili-saqophatskhovrebo-teknika/churchlis-saretskhi-mankanebi'},\n",
       "  {'text': 'გაზქურები',\n",
       "   'url': 'https://kontakt.ge/saqophatskhovrebo-teknika/mskhvili-saqophatskhovrebo-teknika/gazkurebi'},\n",
       "  {'text': 'საშრობი მანქანები',\n",
       "   'url': 'https://kontakt.ge/saqophatskhovrebo-teknika/mskhvili-saqophatskhovrebo-teknika/sashrobi-mankanebi'},\n",
       "  {'text': 'წყლის დისპენსერები',\n",
       "   'url': 'https://kontakt.ge/saqophatskhovrebo-teknika/mskhvili-saqophatskhovrebo-teknika/tsqlis-dispenserebi'},\n",
       "  {'text': 'გამწოვები',\n",
       "   'url': 'https://kontakt.ge/saqophatskhovrebo-teknika/mskhvili-saqophatskhovrebo-teknika/gamtsovebi'}],\n",
       " 'ჩასაშენებელი ტექნიკა': [{'text': 'ჩასაშენებელი გაზქურის ზედაპირი',\n",
       "   'url': 'https://kontakt.ge/saqophatskhovrebo-teknika/chasashenebeli-teknika/chasashenebeli-gazkuris-zedapiri'},\n",
       "  {'text': 'ჩასაშენებელი ღუმელი',\n",
       "   'url': 'https://kontakt.ge/saqophatskhovrebo-teknika/chasashenebeli-teknika/chasashenebeli-ghumeli'},\n",
       "  {'text': 'ჩასაშენებელი გამწოვი',\n",
       "   'url': 'https://kontakt.ge/saqophatskhovrebo-teknika/mskhvili-saqophatskhovrebo-teknika/gamtsovebi?kh_konstruqciistipi=ჩასაშენებელი'},\n",
       "  {'text': 'ჩასაშენებელი ჭურჭლის სარეცხი მანქანები',\n",
       "   'url': 'https://kontakt.ge/saqophatskhovrebo-teknika/mskhvili-saqophatskhovrebo-teknika/churchlis-saretskhi-mankanebi?kh_konstruqciistipi=%E1%83%A9%E1%83%90%E1%83%A1%E1%83%90%E1%83%A8%E1%83%94%E1%83%9C%E1%83%94%E1%83%91%E1%83%94%E1%83%9A%E1%83%98'},\n",
       "  {'text': 'ჩასაშენებელი მიკროტალღური ღუმელი',\n",
       "   'url': 'https://kontakt.ge/samzareulos-teknika/samzareulos-tsvrili-teknika/mikrotalghuri-ghumeli?kh_konstruqciistipi=ჩასაშენებელი'}],\n",
       " 'წვრილი საყოფაცხოვრებო ტექნიკა': [{'text': 'მტვერსასრუტები',\n",
       "   'url': 'https://kontakt.ge/saqophatskhovrebo-teknika/tsvrili-saqophatskhovrebo-teknika/mtversasrutebi'},\n",
       "  {'text': 'რობოტი მტვერსასრუტები',\n",
       "   'url': 'https://kontakt.ge/saqophatskhovrebo-teknika/tsvrili-saqophatskhovrebo-teknika/roboti-mtversasrutebi'},\n",
       "  {'text': 'უსადენო მტვერსასრუტები',\n",
       "   'url': 'https://kontakt.ge/saqophatskhovrebo-teknika/tsvrili-saqophatskhovrebo-teknika/usadeno-mtversasrutebi'},\n",
       "  {'text': 'უთოები',\n",
       "   'url': 'https://kontakt.ge/saqophatskhovrebo-teknika/tsvrili-saqophatskhovrebo-teknika/utoebi'},\n",
       "  {'text': 'ორთქლის უთოები',\n",
       "   'url': 'https://kontakt.ge/saqophatskhovrebo-teknika/tsvrili-saqophatskhovrebo-teknika/ortklis-utoebi'},\n",
       "  {'text': 'ორთქლის გენერატორები',\n",
       "   'url': 'https://kontakt.ge/saqophatskhovrebo-teknika/tsvrili-saqophatskhovrebo-teknika/ortklis-generatorebi'},\n",
       "  {'text': 'საკერავი მანქანები',\n",
       "   'url': 'https://kontakt.ge/saqophatskhovrebo-teknika/tsvrili-saqophatskhovrebo-teknika/sakeravi-manqanebi'}],\n",
       " 'კლიმატური ტექნიკა': [{'text': 'კონდიციონერები',\n",
       "   'url': 'https://kontakt.ge/saqophatskhovrebo-teknika/klimaturi-teknika/kondintsionerebi'},\n",
       "  {'text': 'ვენტილატორები',\n",
       "   'url': 'https://kontakt.ge/saqophatskhovrebo-teknika/klimaturi-teknika/ventilatorebi'},\n",
       "  {'text': 'წყლის გაზის გამაცხელებლები',\n",
       "   'url': 'https://kontakt.ge/saqophatskhovrebo-teknika/klimaturi-teknika/tsqlis-gazis-gamatskheleblebi'},\n",
       "  {'text': 'წყლის ელექტრო გამაცხელებლები',\n",
       "   'url': 'https://kontakt.ge/saqophatskhovrebo-teknika/klimaturi-teknika/tsqlis-elektro-gamatskheleblebi'},\n",
       "  {'text': 'ელექტრო გამათბობლები',\n",
       "   'url': 'https://kontakt.ge/saqophatskhovrebo-teknika/klimaturi-teknika/elektro-gamatboblebi'},\n",
       "  {'text': 'გაზის გამათბობლები',\n",
       "   'url': 'https://kontakt.ge/saqophatskhovrebo-teknika/klimaturi-teknika/gazis-gamatboblebi'}]}"
      ]
     },
     "execution_count": 19,
     "metadata": {},
     "output_type": "execute_result"
    }
   ],
   "source": [
    "categoriesextract_leaf_links(main_cat)"
   ]
  }
 ],
 "metadata": {
  "kernelspec": {
   "display_name": "Python 3 (ipykernel)",
   "language": "python",
   "name": "python3"
  },
  "language_info": {
   "codemirror_mode": {
    "name": "ipython",
    "version": 3
   },
   "file_extension": ".py",
   "mimetype": "text/x-python",
   "name": "python",
   "nbconvert_exporter": "python",
   "pygments_lexer": "ipython3",
   "version": "3.10.16"
  }
 },
 "nbformat": 4,
 "nbformat_minor": 5
}
