{
 "cells": [
  {
   "cell_type": "code",
   "execution_count": 1,
   "id": "c97fac1a-bd38-4d5a-8f73-c3f675d9a7eb",
   "metadata": {},
   "outputs": [],
   "source": [
    "import requests\n",
    "from bs4 import BeautifulSoup\n",
    "import pandas as pd"
   ]
  },
  {
   "cell_type": "code",
   "execution_count": 28,
   "id": "6941b035-758a-4ed0-982b-dd6a4c37b47e",
   "metadata": {},
   "outputs": [],
   "source": [
    "from selenium import webdriver\n",
    "from selenium.webdriver.common.by import By\n",
    "from selenium.webdriver.support.ui import WebDriverWait\n",
    "from selenium.webdriver.support import expected_conditions as EC\n",
    "from selenium.webdriver.chrome.options import Options\n",
    "\n",
    "options = Options()\n",
    "options.add_argument(\"--headless\")  # Run in headless mode\n",
    "options.add_argument(\"--disable-gpu\")  # Sometimes needed for Windows\n",
    "options.add_argument(\"--window-size=1200,800\")  # Optional: set window size\n",
    "\n",
    "driver = webdriver.Chrome(options=options)\n",
    "# Open the target website\n",
    "driver.get(\"https://kontakt.ge\")  # Replace with your actual URL\n",
    "driver.maximize_window()\n",
    "\n",
    "try:\n",
    "    # Wait until the button is visible and clickable\n",
    "    button = WebDriverWait(driver, 10).until(\n",
    "        EC.element_to_be_clickable((By.XPATH, '//*[@id=\"html-body\"]/div[1]/header/div[3]/div/div[1]/button'))  # Change selector as needed\n",
    "    )\n",
    "    \n",
    "    # Click the button\n",
    "    button.click()\n",
    "\n",
    "    # # Wait for the page to update (e.g., waiting for a new element to load)\n",
    "    WebDriverWait(driver, 3).until(\n",
    "        EC.presence_of_element_located((By.XPATH, '//*[@id=\"html-body\"]/div[1]/header/div[3]/div/div[1]/div/div/div/nav/ul/li[1]'))  # Change selector as needed\n",
    "    )\n",
    "\n",
    "    # Get the updated HTML source\n",
    "    full_html = driver.page_source\n",
    "\n",
    "    # Print or save the HTML\n",
    "    # print(full_html)\n",
    "\n",
    "finally:\n",
    "    # Close the browser\n",
    "    driver.quit()\n"
   ]
  },
  {
   "cell_type": "code",
   "execution_count": 29,
   "id": "53b112d7-7fee-41a7-aeb7-be5d5cf418bc",
   "metadata": {},
   "outputs": [],
   "source": [
    "menu = full_html"
   ]
  },
  {
   "cell_type": "code",
   "execution_count": 30,
   "id": "a932061e-677d-42bf-ab20-048ddec4ca78",
   "metadata": {},
   "outputs": [],
   "source": [
    "s = BeautifulSoup(menu, 'html.parser')"
   ]
  },
  {
   "cell_type": "code",
   "execution_count": 31,
   "id": "0f2eb81d-9469-4d31-ac2f-ad24706f9efb",
   "metadata": {},
   "outputs": [],
   "source": [
    "menu_items = s.select('#html-body > div.wrapper > header > div.header__bottom > div > div.row.col-auto.col-lg.menu-wrapper > div > div > div > nav > ul > li')"
   ]
  },
  {
   "cell_type": "code",
   "execution_count": 33,
   "id": "f1e3f8d5-a972-48cd-a968-74ccb8f39c4d",
   "metadata": {},
   "outputs": [],
   "source": [
    "phones_and_accessories = menu_items[0]"
   ]
  },
  {
   "cell_type": "code",
   "execution_count": 34,
   "id": "017bbec8-00ec-425c-afe4-1151cd75cd85",
   "metadata": {},
   "outputs": [
    {
     "data": {
      "text/plain": [
       "<li class=\"catalogMenu__li-link active\"><a class=\"catalogMenu__link\" href=\"https://kontakt.ge/mobilurebi-da-aksesuarebi\">\n",
       "<i class=\"catalogMenu__icon\">\n",
       "<img alt=\"\" class=\"catalogMenu__icon1\" src=\"data:image/svg+xml;base64,PHN2ZyB3aWR0aD0iMjQiIGhlaWdodD0iMjQiIHZpZXdCb3g9IjAgMCAyNCAyNCIgZmlsbD0ibm9uZSIgeG1sbnM9Imh0dHA6Ly93d3cudzMub3JnLzIwMDAvc3ZnIj4KPHJlY3QgeD0iNS43NSIgeT0iMi43NSIgd2lkdGg9IjEyLjUiIGhlaWdodD0iMTguNSIgcng9IjEuNzUiIHN0cm9rZT0iIzc3Nzc3NyIgc3Ryb2tlLXdpZHRoPSIxLjUiLz4KPHBhdGggZD0iTTEwIDE5SDE0IiBzdHJva2U9IiNGRjAwM0MiIHN0cm9rZS1saW5lY2FwPSJyb3VuZCIvPgo8L3N2Zz4K\"/>\n",
       "<img alt=\"\" class=\"catalogMenu__icon2\" src=\"data:image/svg+xml;base64,PHN2ZyB3aWR0aD0iMjQiIGhlaWdodD0iMjQiIHZpZXdCb3g9IjAgMCAyNCAyNCIgZmlsbD0ibm9uZSIgeG1sbnM9Imh0dHA6Ly93d3cudzMub3JnLzIwMDAvc3ZnIj4KPHJlY3QgeD0iNS43NSIgeT0iMi43NSIgd2lkdGg9IjEyLjUiIGhlaWdodD0iMTguNSIgcng9IjEuNzUiIHN0cm9rZT0iI0ZGMDAzQyIgc3Ryb2tlLXdpZHRoPSIxLjUiLz4KPHBhdGggZD0iTTEwIDE5SDE0IiBzdHJva2U9IiNGRjAwM0MiIHN0cm9rZS1saW5lY2FwPSJyb3VuZCIvPgo8L3N2Zz4K\"/>\n",
       "</i>\n",
       "<span class=\"catalogMenu__title\">მობილურები &amp; აქსესუარები</span>\n",
       "<button class=\"catalogMenu__arrow\" type=\"button\">\n",
       "<svg fill=\"none\" height=\"12\" viewbox=\"0 0 8 12\" width=\"8\" xmlns=\"http://www.w3.org/2000/svg\"><path d=\"M0.732712 0.206944C1.03263 -0.0787473 1.50737 -0.0672107 1.79306 0.232712L6.79439 5.48318C7.07032 5.77285 7.07032 6.22809 6.79439 6.51776L1.79306 11.7682C1.50737 12.0681 1.03263 12.0797 0.732712 11.794C0.432789 11.5083 0.421253 11.0336 0.706944 10.7336L5.21553 6.00047L0.706944 1.26729C0.421253 0.967369 0.432789 0.492635 0.732712 0.206944Z\" fill=\"#EAEAEA\"></path></svg>\n",
       "</button>\n",
       "</a><div class=\"childrenMenus__link childrenMenus__link--11\" data-level=\"0\" style=\"left: 284px;\"><div class=\"contentMenu hidden\" id=\"0\"><div class=\"contentMenu__item\"><a class=\"contentMenu__title\" href=\"https://kontakt.ge/mobilurebi-da-aksesuarebi/mobiluri-telefonebi\">მობილურები</a><div class=\"contentMenu__ul\"><ul><a href=\"https://kontakt.ge/mobilurebi-da-aksesuarebi/mobilurebi?kh_mtsarmoebeli=Apple\">Apple</a><a href=\"https://kontakt.ge/mobilurebi-da-aksesuarebi/mobilurebi?kh_mtsarmoebeli=Samsung\">Samsung</a><a href=\"https://kontakt.ge/mobilurebi-da-aksesuarebi/mobiluri-telefonebi?kh_mtsarmoebeli=Xiaomi\">Xiaomi</a><a href=\"https://kontakt.ge/mobilurebi-da-aksesuarebi/mobilurebi?kh_mtsarmoebeli=Realme\">Realme</a><a href=\"https://kontakt.ge/mobilurebi-da-aksesuarebi/mobiluri-telefonebi?kh_mtsarmoebeli=Tecno\">Tecno</a><a href=\"https://kontakt.ge/mobilurebi-da-aksesuarebi/mobiluri-telefonebi?kh_mtsarmoebeli=Doogee\">Doogee</a><a href=\"https://kontakt.ge/mobilurebi-da-aksesuarebi/mobilurebi?kh_mtsarmoebeli=Honor\">Honor</a></ul></div></div><div class=\"contentMenu__item\"><a class=\"contentMenu__title\" href=\"https://kontakt.ge/mobilurebi-da-aksesuarebi/mobiluris-aksesuarebi\">მობილურის აქსესუარები</a><div class=\"contentMenu__ul\"><ul><a href=\"https://kontakt.ge/mobilurebi-da-aksesuarebi/mobiluris-aksesuarebi/adapterebi\">ადაპტერები</a><a href=\"https://kontakt.ge/mobilurebi-da-aksesuarebi/mobiluris-aksesuarebi/kabelebi\">კაბელები</a><a href=\"https://kontakt.ge/mobilurebi-da-aksesuarebi/mobiluris-aksesuarebi/usadeno-damtenebi\">უსადენო დამტენები</a><a href=\"https://kontakt.ge/mobilurebi-da-aksesuarebi/mobiluris-aksesuarebi/power-bank\">Power Bank</a><a href=\"https://kontakt.ge/mobilurebi-da-aksesuarebi/mobiluris-aksesuarebi/keisebi\">ქეისები</a><a href=\"https://kontakt.ge/mobilurebi-da-aksesuarebi/mobiluris-aksesuarebi/ekranis-damtsavebi\">ეკრანის დამცავები</a><a href=\"https://kontakt.ge/mobilurebi-da-aksesuarebi/mobiluris-aksesuarebi/mankanis-aksesuarebi\">მანქანის აქსესუარები</a><a href=\"https://kontakt.ge/mobilurebi-da-aksesuarebi/mobiluris-aksesuarebi/selphis-jokhebi\">სელფის ჯოხები</a><a href=\"https://kontakt.ge/mobilurebi-da-aksesuarebi/mobiluris-aksesuarebi/airtag\">AirTag</a></ul></div></div><div class=\"contentMenu__item\"><a class=\"contentMenu__title\" href=\"https://kontakt.ge/mobilurebi-da-aksesuarebi/qursasmenebi\">ყურსასმენები</a><div class=\"contentMenu__ul\"><ul><a href=\"https://kontakt.ge/mobilurebi-da-aksesuarebi/qursasmenebi/usadeno-qursasmenebi\">უსადენო ყურსასმენები</a><a href=\"https://kontakt.ge/mobilurebi-da-aksesuarebi/qursasmenebi/kabeliani-qursasmenebi\">კაბელიანი ყურსასმენები</a><a href=\"https://kontakt.ge/mobilurebi-da-aksesuarebi/qursasmenebi/gaming-qursasmenebi\">Gaming ყურსასმენები</a></ul></div></div><div class=\"contentMenu__item\"><a class=\"contentMenu__title\" href=\"https://kontakt.ge/mobilurebi-da-aksesuarebi/stacionaluri-telefoni\">სტაციონალური ტელეფონი</a></div></div></div></li>"
      ]
     },
     "execution_count": 34,
     "metadata": {},
     "output_type": "execute_result"
    }
   ],
   "source": [
    "phones_and_accessories"
   ]
  }
 ],
 "metadata": {
  "kernelspec": {
   "display_name": "Python 3 (ipykernel)",
   "language": "python",
   "name": "python3"
  },
  "language_info": {
   "codemirror_mode": {
    "name": "ipython",
    "version": 3
   },
   "file_extension": ".py",
   "mimetype": "text/x-python",
   "name": "python",
   "nbconvert_exporter": "python",
   "pygments_lexer": "ipython3",
   "version": "3.10.16"
  }
 },
 "nbformat": 4,
 "nbformat_minor": 5
}
